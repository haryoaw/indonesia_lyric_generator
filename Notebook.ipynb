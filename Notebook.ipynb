{
 "cells": [
  {
   "cell_type": "markdown",
   "metadata": {},
   "source": [
    "# Generating Indonesian Lyric using Deep Learning\n",
    "\n",
    "Notebook of https://medium.com/@haryoaw/generating-indonesian-lyric-using-deep-learning-first-part-2c7634237475"
   ]
  },
  {
   "cell_type": "code",
   "execution_count": 1,
   "metadata": {
    "ExecuteTime": {
     "end_time": "2018-10-07T09:18:16.415446Z",
     "start_time": "2018-10-07T09:17:26.369844Z"
    }
   },
   "outputs": [
    {
     "name": "stderr",
     "output_type": "stream",
     "text": [
      "C:\\Users\\HaryoAW\\AppData\\Local\\Continuum\\anaconda3\\lib\\site-packages\\h5py\\__init__.py:36: FutureWarning: Conversion of the second argument of issubdtype from `float` to `np.floating` is deprecated. In future, it will be treated as `np.float64 == np.dtype(float).type`.\n",
      "  from ._conv import register_converters as _register_converters\n",
      "Using TensorFlow backend.\n"
     ]
    }
   ],
   "source": [
    "import pandas as pd\n",
    "import numpy as np\n",
    "import re\n",
    "from sklearn import preprocessing\n",
    "from keras.layers import Dense\n",
    "from keras.layers import Embedding\n",
    "from keras import Sequential\n",
    "import keras\n",
    "import pickle\n",
    "from IPython.display import HTML\n"
   ]
  },
  {
   "cell_type": "markdown",
   "metadata": {},
   "source": [
    "# Text Cleaning"
   ]
  },
  {
   "cell_type": "code",
   "execution_count": 3,
   "metadata": {
    "ExecuteTime": {
     "end_time": "2018-10-07T09:04:36.755832Z",
     "start_time": "2018-10-07T09:04:36.750317Z"
    }
   },
   "outputs": [],
   "source": [
    "def clean_text_lyric(lyric, max_length):\n",
    "    lyric_sample = lyric.split('</span>')\n",
    "    lyric_sample = lyric_sample[:-1]\n",
    "    \n",
    "    clean_song_lyric = \"\"\n",
    "    for sentence in lyric_sample:\n",
    "        if 'http' not in sentence:\n",
    "            sentence = re.sub(r'<div .*>','',sentence)\n",
    "            sentence = re.sub(r'<span .*>','',sentence)\n",
    "            sentence = sentence.strip()\n",
    "            if len(sentence) > 0:\n",
    "                sentence = re.sub(r'[^a-zA-Z0-9<\\/>\\s]',' ', sentence)\n",
    "\n",
    "                sentence = \" <div> \" + sentence + \" </div> \"\n",
    "                sentence = re.sub(r'<div>\\s+<br>','<br> <div> ', sentence)\n",
    "                sentence = re.sub(r'(\\d|\\r|\\t|\\n)','',sentence)\n",
    "\n",
    "                clean_song_lyric += sentence\n",
    "\n",
    "    clean_song_lyric = ' <start> ' * (max_length-1) + clean_song_lyric\n",
    "    return clean_song_lyric"
   ]
  },
  {
   "cell_type": "code",
   "execution_count": 5,
   "metadata": {
    "ExecuteTime": {
     "end_time": "2018-10-07T09:04:42.918820Z",
     "start_time": "2018-10-07T09:04:40.364297Z"
    }
   },
   "outputs": [],
   "source": [
    "max_length = 10\n",
    "\n",
    "scrape_lyric = pd.read_csv('st_12_generator/lirik_lagu_scraper/kapanlagi.csv')\n",
    "scrape_lyric = scrape_lyric[['song','band']]\n",
    "scrape_lyric = scrape_lyric.dropna()\n",
    "scrape_lyric = scrape_lyric[scrape_lyric.song.str.contains('span')]\n",
    "scrape_lyric.song = scrape_lyric.song.apply(lambda x: clean_text_lyric(x,max_length))\n",
    "scrape_lyric = scrape_lyric[~(scrape_lyric.song.str.contains('Belum Ada Lirik'))]\n",
    "scrape_lyric = scrape_lyric.reset_index(drop=True)"
   ]
  },
  {
   "cell_type": "markdown",
   "metadata": {},
   "source": [
    "# Preprocessing Data"
   ]
  },
  {
   "cell_type": "code",
   "execution_count": 7,
   "metadata": {
    "ExecuteTime": {
     "end_time": "2018-10-07T09:05:17.366861Z",
     "start_time": "2018-10-07T09:05:17.363853Z"
    }
   },
   "outputs": [],
   "source": [
    "def generate_train_dataset(song_series, window):\n",
    "    train_data = []\n",
    "    train_label = []\n",
    "    for song_string in song_series:\n",
    "        song_arr = song_string.split()\n",
    "        len_song_arr = len(song_arr)\n",
    "\n",
    "        for i in range(0,len_song_arr-window+1):\n",
    "            train_data.append(' '.join(song_arr[i:i+window-1]))\n",
    "            train_label.append(song_arr[i+window-1])\n",
    "    return np.array(train_data), np.array(train_label)"
   ]
  },
  {
   "cell_type": "code",
   "execution_count": 8,
   "metadata": {
    "ExecuteTime": {
     "end_time": "2018-10-07T09:06:35.609092Z",
     "start_time": "2018-10-07T09:05:18.592477Z"
    }
   },
   "outputs": [],
   "source": [
    "X, y = generate_train_dataset(scrape_lyric.song, window=max_length)\n",
    "pre = keras.preprocessing.text.Tokenizer(filters='!\"#$%&()*+,-.:;=?@[\\\\]^_`{|}~\\t\\n')\n",
    "pre.fit_on_texts(X.flatten())\n",
    "\n",
    "vocab_size = len(pre.word_index)\n",
    "X = pre.texts_to_sequences(X)\n",
    "y = pre.texts_to_sequences(y)"
   ]
  },
  {
   "cell_type": "markdown",
   "metadata": {},
   "source": [
    "# Deep Learning Architecture"
   ]
  },
  {
   "cell_type": "code",
   "execution_count": 16,
   "metadata": {
    "ExecuteTime": {
     "end_time": "2018-10-07T09:14:52.470779Z",
     "start_time": "2018-10-07T09:14:42.745741Z"
    }
   },
   "outputs": [],
   "source": [
    "model = Sequential()\n",
    "e = Embedding(vocab_size,100 ,input_length=max_length-1, trainable=True)\n",
    "model.add(e)\n",
    "model.add(keras.layers.BatchNormalization())\n",
    "model.add(keras.layers.Bidirectional(keras.layers.CuDNNLSTM(100)))\n",
    "model.add(keras.layers.BatchNormalization())\n",
    "\n",
    "model.add(Dense(100, activation='relu'))\n",
    "model.add(keras.layers.BatchNormalization())\n",
    "\n",
    "model.add(Dense(vocab_size+1, activation='softmax'))\n",
    "# compile the model\n",
    "model.compile(optimizer='adam', loss='categorical_crossentropy')"
   ]
  },
  {
   "cell_type": "markdown",
   "metadata": {},
   "source": [
    "# Train Model"
   ]
  },
  {
   "cell_type": "code",
   "execution_count": 14,
   "metadata": {
    "ExecuteTime": {
     "end_time": "2018-10-07T09:13:22.713338Z",
     "start_time": "2018-10-07T09:13:22.710833Z"
    }
   },
   "outputs": [],
   "source": [
    "def batch_data(start,end):\n",
    "    global X,y,y_input, X_input\n",
    "    X_input = np.array(X)[start:end]\n",
    "    y_input = np.array(y)[start:end]\n",
    "    y_input = keras.utils.to_categorical(y_input,vocab_size+1)\n"
   ]
  },
  {
   "cell_type": "code",
   "execution_count": 17,
   "metadata": {
    "ExecuteTime": {
     "end_time": "2018-10-07T09:15:33.278218Z",
     "start_time": "2018-10-07T09:15:02.666857Z"
    },
    "collapsed": true
   },
   "outputs": [
    {
     "name": "stdout",
     "output_type": "stream",
     "text": [
      "epoch 0\n",
      "Epoch 1/1\n",
      "10000/10000 [==============================] - 22s 2ms/step - loss: 7.5750\n",
      "Epoch 1/1\n",
      " 1984/10000 [====>.........................] - ETA: 10s - loss: 6.7436"
     ]
    },
    {
     "ename": "KeyboardInterrupt",
     "evalue": "",
     "output_type": "error",
     "traceback": [
      "\u001b[1;31m---------------------------------------------------------------------------\u001b[0m",
      "\u001b[1;31mKeyboardInterrupt\u001b[0m                         Traceback (most recent call last)",
      "\u001b[1;32m<ipython-input-17-acf03132f550>\u001b[0m in \u001b[0;36m<module>\u001b[1;34m()\u001b[0m\n\u001b[0;32m      9\u001b[0m     \u001b[1;32mwhile\u001b[0m \u001b[0mstart_idx_counter\u001b[0m \u001b[1;33m<\u001b[0m \u001b[0minstance_max\u001b[0m\u001b[1;33m:\u001b[0m\u001b[1;33m\u001b[0m\u001b[0m\n\u001b[0;32m     10\u001b[0m         \u001b[0mbatch_data\u001b[0m\u001b[1;33m(\u001b[0m\u001b[0mstart_idx_counter\u001b[0m\u001b[1;33m,\u001b[0m \u001b[0mmin\u001b[0m\u001b[1;33m(\u001b[0m\u001b[0mstart_idx_counter\u001b[0m\u001b[1;33m+\u001b[0m\u001b[0mbatch_size\u001b[0m\u001b[1;33m,\u001b[0m\u001b[0minstance_max\u001b[0m\u001b[1;33m)\u001b[0m\u001b[1;33m)\u001b[0m\u001b[1;33m\u001b[0m\u001b[0m\n\u001b[1;32m---> 11\u001b[1;33m         \u001b[0mmodel\u001b[0m\u001b[1;33m.\u001b[0m\u001b[0mfit\u001b[0m\u001b[1;33m(\u001b[0m\u001b[0mX_input\u001b[0m\u001b[1;33m,\u001b[0m \u001b[0my_input\u001b[0m\u001b[1;33m,\u001b[0m \u001b[0mepochs\u001b[0m\u001b[1;33m=\u001b[0m\u001b[1;36m1\u001b[0m\u001b[1;33m,\u001b[0m \u001b[0mbatch_size\u001b[0m\u001b[1;33m=\u001b[0m\u001b[1;36m64\u001b[0m\u001b[1;33m)\u001b[0m\u001b[1;33m\u001b[0m\u001b[0m\n\u001b[0m\u001b[0;32m     12\u001b[0m         \u001b[0mstart_idx_counter\u001b[0m \u001b[1;33m+=\u001b[0m \u001b[0mbatch_size\u001b[0m\u001b[1;33m\u001b[0m\u001b[0m\n",
      "\u001b[1;32m~\\AppData\\Local\\Continuum\\anaconda3\\lib\\site-packages\\keras\\engine\\training.py\u001b[0m in \u001b[0;36mfit\u001b[1;34m(self, x, y, batch_size, epochs, verbose, callbacks, validation_split, validation_data, shuffle, class_weight, sample_weight, initial_epoch, steps_per_epoch, validation_steps, **kwargs)\u001b[0m\n\u001b[0;32m   1035\u001b[0m                                         \u001b[0minitial_epoch\u001b[0m\u001b[1;33m=\u001b[0m\u001b[0minitial_epoch\u001b[0m\u001b[1;33m,\u001b[0m\u001b[1;33m\u001b[0m\u001b[0m\n\u001b[0;32m   1036\u001b[0m                                         \u001b[0msteps_per_epoch\u001b[0m\u001b[1;33m=\u001b[0m\u001b[0msteps_per_epoch\u001b[0m\u001b[1;33m,\u001b[0m\u001b[1;33m\u001b[0m\u001b[0m\n\u001b[1;32m-> 1037\u001b[1;33m                                         validation_steps=validation_steps)\n\u001b[0m\u001b[0;32m   1038\u001b[0m \u001b[1;33m\u001b[0m\u001b[0m\n\u001b[0;32m   1039\u001b[0m     def evaluate(self, x=None, y=None,\n",
      "\u001b[1;32m~\\AppData\\Local\\Continuum\\anaconda3\\lib\\site-packages\\keras\\engine\\training_arrays.py\u001b[0m in \u001b[0;36mfit_loop\u001b[1;34m(model, f, ins, out_labels, batch_size, epochs, verbose, callbacks, val_f, val_ins, shuffle, callback_metrics, initial_epoch, steps_per_epoch, validation_steps)\u001b[0m\n\u001b[0;32m    197\u001b[0m                     \u001b[0mins_batch\u001b[0m\u001b[1;33m[\u001b[0m\u001b[0mi\u001b[0m\u001b[1;33m]\u001b[0m \u001b[1;33m=\u001b[0m \u001b[0mins_batch\u001b[0m\u001b[1;33m[\u001b[0m\u001b[0mi\u001b[0m\u001b[1;33m]\u001b[0m\u001b[1;33m.\u001b[0m\u001b[0mtoarray\u001b[0m\u001b[1;33m(\u001b[0m\u001b[1;33m)\u001b[0m\u001b[1;33m\u001b[0m\u001b[0m\n\u001b[0;32m    198\u001b[0m \u001b[1;33m\u001b[0m\u001b[0m\n\u001b[1;32m--> 199\u001b[1;33m                 \u001b[0mouts\u001b[0m \u001b[1;33m=\u001b[0m \u001b[0mf\u001b[0m\u001b[1;33m(\u001b[0m\u001b[0mins_batch\u001b[0m\u001b[1;33m)\u001b[0m\u001b[1;33m\u001b[0m\u001b[0m\n\u001b[0m\u001b[0;32m    200\u001b[0m                 \u001b[0mouts\u001b[0m \u001b[1;33m=\u001b[0m \u001b[0mto_list\u001b[0m\u001b[1;33m(\u001b[0m\u001b[0mouts\u001b[0m\u001b[1;33m)\u001b[0m\u001b[1;33m\u001b[0m\u001b[0m\n\u001b[0;32m    201\u001b[0m                 \u001b[1;32mfor\u001b[0m \u001b[0ml\u001b[0m\u001b[1;33m,\u001b[0m \u001b[0mo\u001b[0m \u001b[1;32min\u001b[0m \u001b[0mzip\u001b[0m\u001b[1;33m(\u001b[0m\u001b[0mout_labels\u001b[0m\u001b[1;33m,\u001b[0m \u001b[0mouts\u001b[0m\u001b[1;33m)\u001b[0m\u001b[1;33m:\u001b[0m\u001b[1;33m\u001b[0m\u001b[0m\n",
      "\u001b[1;32m~\\AppData\\Local\\Continuum\\anaconda3\\lib\\site-packages\\keras\\backend\\tensorflow_backend.py\u001b[0m in \u001b[0;36m__call__\u001b[1;34m(self, inputs)\u001b[0m\n\u001b[0;32m   2664\u001b[0m                 \u001b[1;32mreturn\u001b[0m \u001b[0mself\u001b[0m\u001b[1;33m.\u001b[0m\u001b[0m_legacy_call\u001b[0m\u001b[1;33m(\u001b[0m\u001b[0minputs\u001b[0m\u001b[1;33m)\u001b[0m\u001b[1;33m\u001b[0m\u001b[0m\n\u001b[0;32m   2665\u001b[0m \u001b[1;33m\u001b[0m\u001b[0m\n\u001b[1;32m-> 2666\u001b[1;33m             \u001b[1;32mreturn\u001b[0m \u001b[0mself\u001b[0m\u001b[1;33m.\u001b[0m\u001b[0m_call\u001b[0m\u001b[1;33m(\u001b[0m\u001b[0minputs\u001b[0m\u001b[1;33m)\u001b[0m\u001b[1;33m\u001b[0m\u001b[0m\n\u001b[0m\u001b[0;32m   2667\u001b[0m         \u001b[1;32melse\u001b[0m\u001b[1;33m:\u001b[0m\u001b[1;33m\u001b[0m\u001b[0m\n\u001b[0;32m   2668\u001b[0m             \u001b[1;32mif\u001b[0m \u001b[0mpy_any\u001b[0m\u001b[1;33m(\u001b[0m\u001b[0mis_tensor\u001b[0m\u001b[1;33m(\u001b[0m\u001b[0mx\u001b[0m\u001b[1;33m)\u001b[0m \u001b[1;32mfor\u001b[0m \u001b[0mx\u001b[0m \u001b[1;32min\u001b[0m \u001b[0minputs\u001b[0m\u001b[1;33m)\u001b[0m\u001b[1;33m:\u001b[0m\u001b[1;33m\u001b[0m\u001b[0m\n",
      "\u001b[1;32m~\\AppData\\Local\\Continuum\\anaconda3\\lib\\site-packages\\keras\\backend\\tensorflow_backend.py\u001b[0m in \u001b[0;36m_call\u001b[1;34m(self, inputs)\u001b[0m\n\u001b[0;32m   2634\u001b[0m                                 \u001b[0msymbol_vals\u001b[0m\u001b[1;33m,\u001b[0m\u001b[1;33m\u001b[0m\u001b[0m\n\u001b[0;32m   2635\u001b[0m                                 session)\n\u001b[1;32m-> 2636\u001b[1;33m         \u001b[0mfetched\u001b[0m \u001b[1;33m=\u001b[0m \u001b[0mself\u001b[0m\u001b[1;33m.\u001b[0m\u001b[0m_callable_fn\u001b[0m\u001b[1;33m(\u001b[0m\u001b[1;33m*\u001b[0m\u001b[0marray_vals\u001b[0m\u001b[1;33m)\u001b[0m\u001b[1;33m\u001b[0m\u001b[0m\n\u001b[0m\u001b[0;32m   2637\u001b[0m         \u001b[1;32mreturn\u001b[0m \u001b[0mfetched\u001b[0m\u001b[1;33m[\u001b[0m\u001b[1;33m:\u001b[0m\u001b[0mlen\u001b[0m\u001b[1;33m(\u001b[0m\u001b[0mself\u001b[0m\u001b[1;33m.\u001b[0m\u001b[0moutputs\u001b[0m\u001b[1;33m)\u001b[0m\u001b[1;33m]\u001b[0m\u001b[1;33m\u001b[0m\u001b[0m\n\u001b[0;32m   2638\u001b[0m \u001b[1;33m\u001b[0m\u001b[0m\n",
      "\u001b[1;32m~\\AppData\\Local\\Continuum\\anaconda3\\lib\\site-packages\\tensorflow\\python\\client\\session.py\u001b[0m in \u001b[0;36m__call__\u001b[1;34m(self, *args, **kwargs)\u001b[0m\n\u001b[0;32m   1380\u001b[0m           ret = tf_session.TF_SessionRunCallable(\n\u001b[0;32m   1381\u001b[0m               \u001b[0mself\u001b[0m\u001b[1;33m.\u001b[0m\u001b[0m_session\u001b[0m\u001b[1;33m.\u001b[0m\u001b[0m_session\u001b[0m\u001b[1;33m,\u001b[0m \u001b[0mself\u001b[0m\u001b[1;33m.\u001b[0m\u001b[0m_handle\u001b[0m\u001b[1;33m,\u001b[0m \u001b[0margs\u001b[0m\u001b[1;33m,\u001b[0m \u001b[0mstatus\u001b[0m\u001b[1;33m,\u001b[0m\u001b[1;33m\u001b[0m\u001b[0m\n\u001b[1;32m-> 1382\u001b[1;33m               run_metadata_ptr)\n\u001b[0m\u001b[0;32m   1383\u001b[0m         \u001b[1;32mif\u001b[0m \u001b[0mrun_metadata\u001b[0m\u001b[1;33m:\u001b[0m\u001b[1;33m\u001b[0m\u001b[0m\n\u001b[0;32m   1384\u001b[0m           \u001b[0mproto_data\u001b[0m \u001b[1;33m=\u001b[0m \u001b[0mtf_session\u001b[0m\u001b[1;33m.\u001b[0m\u001b[0mTF_GetBuffer\u001b[0m\u001b[1;33m(\u001b[0m\u001b[0mrun_metadata_ptr\u001b[0m\u001b[1;33m)\u001b[0m\u001b[1;33m\u001b[0m\u001b[0m\n",
      "\u001b[1;31mKeyboardInterrupt\u001b[0m: "
     ]
    }
   ],
   "source": [
    "i = 0\n",
    "max_epoch = 1 # Change this max_epoch\n",
    "instance_max = len(X)\n",
    "batch_size = 10000\n",
    "\n",
    "for i in range(max_epoch):\n",
    "    start_idx_counter = 0\n",
    "    print(\"epoch %d\" % (i))\n",
    "    while start_idx_counter < instance_max:\n",
    "        batch_data(start_idx_counter, min(start_idx_counter+batch_size,instance_max))\n",
    "        model.fit(X_input, y_input, epochs=1, batch_size=64) \n",
    "        start_idx_counter += batch_size\n",
    "\n"
   ]
  },
  {
   "cell_type": "code",
   "execution_count": null,
   "metadata": {},
   "outputs": [],
   "source": [
    "model.save('lyric_gen_model.h5')\n",
    "pickle.dump( pre, open( \"tokenizer_pre_lyric.p\", \"wb\" ) )"
   ]
  },
  {
   "cell_type": "markdown",
   "metadata": {},
   "source": [
    "# Generate the Lyric"
   ]
  },
  {
   "cell_type": "code",
   "execution_count": 4,
   "metadata": {
    "ExecuteTime": {
     "end_time": "2018-10-07T09:19:48.782544Z",
     "start_time": "2018-10-07T09:19:07.441126Z"
    }
   },
   "outputs": [],
   "source": [
    "model = keras.models.load_model('lyric_gen_model.h5')\n",
    "pre = pickle.load( open( \"tokenizer_pre_lyric.p\", \"rb\" ) )"
   ]
  },
  {
   "cell_type": "code",
   "execution_count": 22,
   "metadata": {
    "ExecuteTime": {
     "end_time": "2018-10-07T09:30:16.646272Z",
     "start_time": "2018-10-07T09:30:16.641760Z"
    }
   },
   "outputs": [],
   "source": [
    "def preprocess_predict(X):\n",
    "    X = pre.texts_to_sequences(X)\n",
    "    return X\n",
    "\n",
    "def is_word_in_dict(words, word_idx):\n",
    "    for word in words.split():\n",
    "        if word not in word_idx:\n",
    "            print(word_idx)\n",
    "            print(word)\n",
    "            return False\n",
    "    return True\n",
    "\n",
    "def generate_song_by_model(model, idx_word, X_sent, total_length, word_idx, total_classes, word_generated=80):\n",
    "    string_returned = X_sent\n",
    "    if is_word_in_dict(X_sent, word_idx):\n",
    "        X = np.array(preprocess_predict([X_sent]))\n",
    "        counter = 1\n",
    "\n",
    "        for i in range(word_generated):\n",
    "            y_pred = model.predict(X)\n",
    "            rnd_choice = np.random.choice(range(0,total_classes),size=1,replace=False, p=y_pred[0])\n",
    "            word_predict = idx_word[rnd_choice[0]]\n",
    "            string_returned = string_returned + \" \" + word_predict\n",
    "            X = ' '.join(string_returned.split()[counter:])\n",
    "            X = np.array(preprocess_predict([X]))\n",
    "            counter += 1\n",
    "\n",
    "        return string_returned"
   ]
  },
  {
   "cell_type": "code",
   "execution_count": 25,
   "metadata": {
    "ExecuteTime": {
     "end_time": "2018-10-07T09:30:28.516803Z",
     "start_time": "2018-10-07T09:30:28.033434Z"
    }
   },
   "outputs": [
    {
     "data": {
      "text/html": [
       "<start> <start> <start> <start> <start> <start> <start> <start> <start>  <div> buat tiba hanya untuk hidup </div> <div> kalau kita duduk sama saya </div> <br> <div> kalau pinggul nyanyi </div> <div> bergoyang goyang joget ide miring </div> <div> ada basah duit cowok yang panas </div> <div> aku bingung aku goodbye </div> <br> <div> teringat tentang dikau </div> <div> jauh sejujurnya"
      ],
      "text/plain": [
       "<IPython.core.display.HTML object>"
      ]
     },
     "execution_count": 25,
     "metadata": {},
     "output_type": "execute_result"
    }
   ],
   "source": [
    "max_length = 10\n",
    "vocab_size = len(pre.word_index)\n",
    "seed = \"<start> \" * (max_length-1)\n",
    "generated_lyric = generate_song_by_model(model, pre.index_word, seed, max_length, pre.word_index, vocab_size+1,word_generated=50)\n",
    "HTML(generated_lyric)"
   ]
  }
 ],
 "metadata": {
  "kernelspec": {
   "display_name": "Python 3",
   "language": "python",
   "name": "python3"
  },
  "latex_envs": {
   "LaTeX_envs_menu_present": true,
   "autoclose": false,
   "autocomplete": true,
   "bibliofile": "biblio.bib",
   "cite_by": "apalike",
   "current_citInitial": 1,
   "eqLabelWithNumbers": true,
   "eqNumInitial": 1,
   "hotkeys": {
    "equation": "Ctrl-E",
    "itemize": "Ctrl-I"
   },
   "labels_anchors": false,
   "latex_user_defs": false,
   "report_style_numbering": false,
   "user_envs_cfg": false
  },
  "toc": {
   "base_numbering": 1,
   "nav_menu": {},
   "number_sections": true,
   "sideBar": true,
   "skip_h1_title": false,
   "title_cell": "Table of Contents",
   "title_sidebar": "Contents",
   "toc_cell": false,
   "toc_position": {},
   "toc_section_display": true,
   "toc_window_display": false
  },
  "varInspector": {
   "cols": {
    "lenName": 16,
    "lenType": 16,
    "lenVar": 40
   },
   "kernels_config": {
    "python": {
     "delete_cmd_postfix": "",
     "delete_cmd_prefix": "del ",
     "library": "var_list.py",
     "varRefreshCmd": "print(var_dic_list())"
    },
    "r": {
     "delete_cmd_postfix": ") ",
     "delete_cmd_prefix": "rm(",
     "library": "var_list.r",
     "varRefreshCmd": "cat(var_dic_list()) "
    }
   },
   "types_to_exclude": [
    "module",
    "function",
    "builtin_function_or_method",
    "instance",
    "_Feature"
   ],
   "window_display": false
  }
 },
 "nbformat": 4,
 "nbformat_minor": 2
}
